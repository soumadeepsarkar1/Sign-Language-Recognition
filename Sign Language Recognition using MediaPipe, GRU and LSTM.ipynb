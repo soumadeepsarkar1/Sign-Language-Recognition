{
 "cells": [
  {
   "cell_type": "markdown",
   "id": "6b44de4d",
   "metadata": {},
   "source": [
    "# Install dependencies #"
   ]
  },
  {
   "cell_type": "code",
   "execution_count": 1,
   "id": "75c32e53",
   "metadata": {
    "scrolled": true
   },
   "outputs": [
    {
     "name": "stdout",
     "output_type": "stream",
     "text": [
      "Requirement already satisfied: gTTS in ./env2/lib/python3.11/site-packages (2.3.2)\n",
      "Requirement already satisfied: pydub in ./env2/lib/python3.11/site-packages (0.25.1)\n",
      "Requirement already satisfied: mediapipe in ./env2/lib/python3.11/site-packages (0.10.3)\n",
      "Requirement already satisfied: tensorflow in ./env2/lib/python3.11/site-packages (2.13.0)\n",
      "Requirement already satisfied: requests<3,>=2.27 in ./env2/lib/python3.11/site-packages (from gTTS) (2.31.0)\n",
      "Requirement already satisfied: click<8.2,>=7.1 in ./env2/lib/python3.11/site-packages (from gTTS) (8.1.7)\n",
      "Requirement already satisfied: absl-py in ./env2/lib/python3.11/site-packages (from mediapipe) (1.4.0)\n",
      "Requirement already satisfied: attrs>=19.1.0 in ./env2/lib/python3.11/site-packages (from mediapipe) (23.1.0)\n",
      "Requirement already satisfied: flatbuffers>=2.0 in ./env2/lib/python3.11/site-packages (from mediapipe) (23.5.26)\n",
      "Requirement already satisfied: matplotlib in ./env2/lib/python3.11/site-packages (from mediapipe) (3.7.2)\n",
      "Requirement already satisfied: numpy in ./env2/lib/python3.11/site-packages (from mediapipe) (1.24.3)\n",
      "Requirement already satisfied: opencv-contrib-python in ./env2/lib/python3.11/site-packages (from mediapipe) (4.8.0.76)\n",
      "Requirement already satisfied: protobuf<4,>=3.11 in ./env2/lib/python3.11/site-packages (from mediapipe) (3.20.3)\n",
      "Requirement already satisfied: sounddevice>=0.4.4 in ./env2/lib/python3.11/site-packages (from mediapipe) (0.4.6)\n",
      "Requirement already satisfied: astunparse>=1.6.0 in ./env2/lib/python3.11/site-packages (from tensorflow) (1.6.3)\n",
      "Requirement already satisfied: gast<=0.4.0,>=0.2.1 in ./env2/lib/python3.11/site-packages (from tensorflow) (0.4.0)\n",
      "Requirement already satisfied: google-pasta>=0.1.1 in ./env2/lib/python3.11/site-packages (from tensorflow) (0.2.0)\n",
      "Requirement already satisfied: grpcio<2.0,>=1.24.3 in ./env2/lib/python3.11/site-packages (from tensorflow) (1.57.0)\n",
      "Requirement already satisfied: h5py>=2.9.0 in ./env2/lib/python3.11/site-packages (from tensorflow) (3.9.0)\n",
      "Requirement already satisfied: keras<2.14,>=2.13.1 in ./env2/lib/python3.11/site-packages (from tensorflow) (2.13.1)\n",
      "Requirement already satisfied: libclang>=13.0.0 in ./env2/lib/python3.11/site-packages (from tensorflow) (16.0.6)\n",
      "Requirement already satisfied: opt-einsum>=2.3.2 in ./env2/lib/python3.11/site-packages (from tensorflow) (3.3.0)\n",
      "Requirement already satisfied: packaging in ./env2/lib/python3.11/site-packages (from tensorflow) (23.1)\n",
      "Requirement already satisfied: setuptools in ./env2/lib/python3.11/site-packages (from tensorflow) (66.1.1)\n",
      "Requirement already satisfied: six>=1.12.0 in ./env2/lib/python3.11/site-packages (from tensorflow) (1.16.0)\n",
      "Requirement already satisfied: tensorboard<2.14,>=2.13 in ./env2/lib/python3.11/site-packages (from tensorflow) (2.13.0)\n",
      "Requirement already satisfied: tensorflow-estimator<2.14,>=2.13.0 in ./env2/lib/python3.11/site-packages (from tensorflow) (2.13.0)\n",
      "Requirement already satisfied: termcolor>=1.1.0 in ./env2/lib/python3.11/site-packages (from tensorflow) (2.3.0)\n",
      "Requirement already satisfied: typing-extensions<4.6.0,>=3.6.6 in ./env2/lib/python3.11/site-packages (from tensorflow) (4.5.0)\n",
      "Requirement already satisfied: wrapt>=1.11.0 in ./env2/lib/python3.11/site-packages (from tensorflow) (1.15.0)\n",
      "Requirement already satisfied: tensorflow-io-gcs-filesystem>=0.23.1 in ./env2/lib/python3.11/site-packages (from tensorflow) (0.33.0)\n",
      "Requirement already satisfied: wheel<1.0,>=0.23.0 in ./env2/lib/python3.11/site-packages (from astunparse>=1.6.0->tensorflow) (0.41.2)\n",
      "Requirement already satisfied: charset-normalizer<4,>=2 in ./env2/lib/python3.11/site-packages (from requests<3,>=2.27->gTTS) (3.2.0)\n",
      "Requirement already satisfied: idna<4,>=2.5 in ./env2/lib/python3.11/site-packages (from requests<3,>=2.27->gTTS) (3.4)\n",
      "Requirement already satisfied: urllib3<3,>=1.21.1 in ./env2/lib/python3.11/site-packages (from requests<3,>=2.27->gTTS) (1.26.16)\n",
      "Requirement already satisfied: certifi>=2017.4.17 in ./env2/lib/python3.11/site-packages (from requests<3,>=2.27->gTTS) (2023.7.22)\n",
      "Requirement already satisfied: CFFI>=1.0 in ./env2/lib/python3.11/site-packages (from sounddevice>=0.4.4->mediapipe) (1.15.1)\n",
      "Requirement already satisfied: google-auth<3,>=1.6.3 in ./env2/lib/python3.11/site-packages (from tensorboard<2.14,>=2.13->tensorflow) (2.22.0)\n",
      "Requirement already satisfied: google-auth-oauthlib<1.1,>=0.5 in ./env2/lib/python3.11/site-packages (from tensorboard<2.14,>=2.13->tensorflow) (1.0.0)\n",
      "Requirement already satisfied: markdown>=2.6.8 in ./env2/lib/python3.11/site-packages (from tensorboard<2.14,>=2.13->tensorflow) (3.4.4)\n",
      "Requirement already satisfied: tensorboard-data-server<0.8.0,>=0.7.0 in ./env2/lib/python3.11/site-packages (from tensorboard<2.14,>=2.13->tensorflow) (0.7.1)\n",
      "Requirement already satisfied: werkzeug>=1.0.1 in ./env2/lib/python3.11/site-packages (from tensorboard<2.14,>=2.13->tensorflow) (2.3.7)\n",
      "Requirement already satisfied: contourpy>=1.0.1 in ./env2/lib/python3.11/site-packages (from matplotlib->mediapipe) (1.1.0)\n",
      "Requirement already satisfied: cycler>=0.10 in ./env2/lib/python3.11/site-packages (from matplotlib->mediapipe) (0.11.0)\n",
      "Requirement already satisfied: fonttools>=4.22.0 in ./env2/lib/python3.11/site-packages (from matplotlib->mediapipe) (4.42.1)\n",
      "Requirement already satisfied: kiwisolver>=1.0.1 in ./env2/lib/python3.11/site-packages (from matplotlib->mediapipe) (1.4.5)\n",
      "Requirement already satisfied: pillow>=6.2.0 in ./env2/lib/python3.11/site-packages (from matplotlib->mediapipe) (10.0.0)\n",
      "Requirement already satisfied: pyparsing<3.1,>=2.3.1 in ./env2/lib/python3.11/site-packages (from matplotlib->mediapipe) (3.0.9)\n",
      "Requirement already satisfied: python-dateutil>=2.7 in ./env2/lib/python3.11/site-packages (from matplotlib->mediapipe) (2.8.2)\n",
      "Requirement already satisfied: pycparser in ./env2/lib/python3.11/site-packages (from CFFI>=1.0->sounddevice>=0.4.4->mediapipe) (2.21)\n",
      "Requirement already satisfied: cachetools<6.0,>=2.0.0 in ./env2/lib/python3.11/site-packages (from google-auth<3,>=1.6.3->tensorboard<2.14,>=2.13->tensorflow) (5.3.1)\n",
      "Requirement already satisfied: pyasn1-modules>=0.2.1 in ./env2/lib/python3.11/site-packages (from google-auth<3,>=1.6.3->tensorboard<2.14,>=2.13->tensorflow) (0.3.0)\n",
      "Requirement already satisfied: rsa<5,>=3.1.4 in ./env2/lib/python3.11/site-packages (from google-auth<3,>=1.6.3->tensorboard<2.14,>=2.13->tensorflow) (4.9)\n",
      "Requirement already satisfied: requests-oauthlib>=0.7.0 in ./env2/lib/python3.11/site-packages (from google-auth-oauthlib<1.1,>=0.5->tensorboard<2.14,>=2.13->tensorflow) (1.3.1)\n",
      "Requirement already satisfied: MarkupSafe>=2.1.1 in ./env2/lib/python3.11/site-packages (from werkzeug>=1.0.1->tensorboard<2.14,>=2.13->tensorflow) (2.1.3)\n",
      "Requirement already satisfied: pyasn1<0.6.0,>=0.4.6 in ./env2/lib/python3.11/site-packages (from pyasn1-modules>=0.2.1->google-auth<3,>=1.6.3->tensorboard<2.14,>=2.13->tensorflow) (0.5.0)\n",
      "Requirement already satisfied: oauthlib>=3.0.0 in ./env2/lib/python3.11/site-packages (from requests-oauthlib>=0.7.0->google-auth-oauthlib<1.1,>=0.5->tensorboard<2.14,>=2.13->tensorflow) (3.2.2)\n"
     ]
    }
   ],
   "source": [
    "# Essential if not installed\n",
    "!pip install gTTS pydub mediapipe tensorflow"
   ]
  },
  {
   "cell_type": "markdown",
   "id": "88790a07",
   "metadata": {},
   "source": [
    "# Import necessary packages #"
   ]
  },
  {
   "cell_type": "code",
   "execution_count": 1,
   "id": "0b1d5b15",
   "metadata": {},
   "outputs": [
    {
     "name": "stderr",
     "output_type": "stream",
     "text": [
      "2023-10-11 20:06:43.001272: I tensorflow/tsl/cuda/cudart_stub.cc:28] Could not find cuda drivers on your machine, GPU will not be used.\n",
      "2023-10-11 20:06:43.294793: I tensorflow/tsl/cuda/cudart_stub.cc:28] Could not find cuda drivers on your machine, GPU will not be used.\n",
      "2023-10-11 20:06:43.296638: I tensorflow/core/platform/cpu_feature_guard.cc:182] This TensorFlow binary is optimized to use available CPU instructions in performance-critical operations.\n",
      "To enable the following instructions: AVX2 FMA, in other operations, rebuild TensorFlow with the appropriate compiler flags.\n",
      "2023-10-11 20:06:44.898336: W tensorflow/compiler/tf2tensorrt/utils/py_utils.cc:38] TF-TRT Warning: Could not find TensorRT\n"
     ]
    }
   ],
   "source": [
    "# Essential\n",
    "import cv2 as cv\n",
    "import numpy as np\n",
    "import os\n",
    "import mediapipe as mp\n",
    "import pickle"
   ]
  },
  {
   "cell_type": "markdown",
   "id": "5e250595",
   "metadata": {},
   "source": [
    "# Keypoints using MP Holistic #"
   ]
  },
  {
   "cell_type": "code",
   "execution_count": 2,
   "id": "0b3d50ae",
   "metadata": {},
   "outputs": [],
   "source": [
    "# Essential\n",
    "mp_holistic = mp.solutions.holistic # holistic model\n",
    "mp_drawing = mp.solutions.drawing_utils # drawing utilities\n",
    "# we use mp_holistic to make our detections and mp_drawing to\n",
    "# draw them"
   ]
  },
  {
   "cell_type": "code",
   "execution_count": 3,
   "id": "f25fa806",
   "metadata": {},
   "outputs": [],
   "source": [
    "# Essential\n",
    "def mediapipe_detection(image,model):\n",
    "    image = cv.cvtColor(image,cv.COLOR_BGR2RGB) # Color conversion from BGR to RGB, since the input from opencv is in the colorspace BGR\n",
    "    image.flags.writeable = False # Image is no longer writable\n",
    "    results = model.process(image) # make the predictions\n",
    "    image.flags.writeable = True # Image is writable\n",
    "    image = cv.cvtColor(image, cv.COLOR_RGB2BGR) # Color space conversion from RGB to BGR for use by opencv as opencv uses BGR\n",
    "    return image, results"
   ]
  },
  {
   "cell_type": "code",
   "execution_count": 4,
   "id": "8cdc47d7",
   "metadata": {},
   "outputs": [],
   "source": [
    "# Essential\n",
    "def draw_styled_landmarks(image, results):\n",
    "    # Draw face connections\n",
    "    mp_drawing.draw_landmarks(image, results.face_landmarks, mp_holistic.FACEMESH_TESSELATION, \n",
    "                             mp_drawing.DrawingSpec(color=(80,110,10), thickness=1, circle_radius=1), \n",
    "                             mp_drawing.DrawingSpec(color=(80,256,121), thickness=1, circle_radius=1)\n",
    "                             ) # the first drawing spec is the landmark drawing spec,\n",
    "    # the second drawing spec is the connection drawing spec\n",
    "    # Draw pose connections\n",
    "    mp_drawing.draw_landmarks(image, results.pose_landmarks, mp_holistic.POSE_CONNECTIONS,\n",
    "                             mp_drawing.DrawingSpec(color=(0, 13, 255), thickness=2, circle_radius=3), \n",
    "                             mp_drawing.DrawingSpec(color=(80,44,121), thickness=2, circle_radius=2)\n",
    "                             ) \n",
    "    # Draw left hand connections\n",
    "    mp_drawing.draw_landmarks(image, results.left_hand_landmarks, mp_holistic.HAND_CONNECTIONS, \n",
    "                             mp_drawing.DrawingSpec(color=(121,22,76), thickness=2, circle_radius=3), \n",
    "                             mp_drawing.DrawingSpec(color=(121,44,250), thickness=2, circle_radius=2)\n",
    "                             ) \n",
    "    # Draw right hand connections  \n",
    "    mp_drawing.draw_landmarks(image, results.right_hand_landmarks, mp_holistic.HAND_CONNECTIONS, \n",
    "                             mp_drawing.DrawingSpec(color=(245,117,66), thickness=2, circle_radius=3), \n",
    "                             mp_drawing.DrawingSpec(color=(245,66,230), thickness=2, circle_radius=2)\n",
    "                             ) "
   ]
  },
  {
   "cell_type": "code",
   "execution_count": 6,
   "id": "d195dc3d",
   "metadata": {},
   "outputs": [
    {
     "name": "stdout",
     "output_type": "stream",
     "text": [
      "Resolution: 640.0 X 480.0\n",
      "FPS: 30.0\n"
     ]
    },
    {
     "name": "stderr",
     "output_type": "stream",
     "text": [
      "INFO: Created TensorFlow Lite XNNPACK delegate for CPU.\n",
      "qt.qpa.plugin: Could not find the Qt platform plugin \"wayland\" in \"/home/soumadeep/Documents/Sign language project/env2/lib/python3.11/site-packages/cv2/qt/plugins\"\n"
     ]
    }
   ],
   "source": [
    "# Essential for checking camera connection, press q to close the camera window\n",
    "cap = cv.VideoCapture(0) # try changing this number to 0, 1, 2 if camera does not open, this is the device no.\n",
    "print(\"Resolution: {} X {}\".format(cap.get(cv.CAP_PROP_FRAME_WIDTH), cap.get(cv.CAP_PROP_FRAME_HEIGHT)))\n",
    "print(\"FPS: {}\".format(cap.get(cv.CAP_PROP_FPS)))\n",
    "# Instantiate mediapipe model\n",
    "# we can play around with the kwargs\n",
    "with mp_holistic.Holistic(min_detection_confidence=0.5, min_tracking_confidence= 0.5) as holistic:\n",
    "    while cap.isOpened():\n",
    "        # read feed from camera or video\n",
    "        ret, frame = cap.read()\n",
    "        # make detections\n",
    "        image, results = mediapipe_detection(frame, holistic)\n",
    "        #flipped_image, results = mediapipe_detection(cv.flip(frame, 1), holistic)\n",
    "        # print(results) # uncomment to see what the results look like\n",
    "        \n",
    "        # Draw landmarks\n",
    "        draw_styled_landmarks(image, results)\n",
    "        \n",
    "        # show to screen\n",
    "        cv.imshow('OpenCV Feed', image)\n",
    "\n",
    "        # break gracefully\n",
    "        # print(results) # uncomment to see what the results look like,\n",
    "        #link for explanation: # https://stackoverflow.com/questions/35372700/whats-0xff-for-in-cv2-waitkey1\n",
    "        if cv.waitKey(10) & 0xFF == ord('q'): \n",
    "            break\n",
    "    cap.release()\n",
    "    cv.destroyAllWindows()"
   ]
  },
  {
   "cell_type": "markdown",
   "id": "1fff88f4",
   "metadata": {},
   "source": [
    "Run the cell below if the webcab is still active for some reason or if there is some error on running the cell above"
   ]
  },
  {
   "cell_type": "code",
   "execution_count": 24,
   "id": "8ad035cb",
   "metadata": {},
   "outputs": [],
   "source": [
    "cap.release()\n",
    "cv.destroyAllWindows()"
   ]
  },
  {
   "cell_type": "markdown",
   "id": "7536b4bf",
   "metadata": {},
   "source": [
    "The function extract_keypoints() takes the landmarks of each type and flattens them. It also takes care of error handling, i.e., if a particular type of landmark is not present then an array of zeros of the same length is returned. Pose has an extra attribute visibility."
   ]
  },
  {
   "cell_type": "code",
   "execution_count": 5,
   "id": "9b914600",
   "metadata": {},
   "outputs": [],
   "source": [
    "# Essential\n",
    "def extract_keypoints(results):\n",
    "    pose = np.array([[res.x, res.y, res.z, res.visibility] for res in results.pose_landmarks.landmark]).flatten() if results.pose_landmarks else np.zeros(33*4)\n",
    "    face = np.array([[res.x, res.y, res.z] for res in results.face_landmarks.landmark]).flatten() if results.face_landmarks else np.zeros(468*3)\n",
    "    lh = np.array([[res.x, res.y, res.z] for res in results.left_hand_landmarks.landmark]).flatten() if results.left_hand_landmarks else np.zeros(21*3)\n",
    "    rh = np.array([[res.x, res.y, res.z] for res in results.right_hand_landmarks.landmark]).flatten() if results.right_hand_landmarks else np.zeros(21*3)\n",
    "    return np.concatenate([pose, face, lh, rh])"
   ]
  },
  {
   "cell_type": "markdown",
   "id": "8f75e986",
   "metadata": {},
   "source": [
    "Be careful, run the cell below only when entering the first data"
   ]
  },
  {
   "cell_type": "code",
   "execution_count": 10,
   "id": "0c23cb5e",
   "metadata": {},
   "outputs": [],
   "source": [
    "# run this only when there is no data available, i.e, you are about to enter the first data, otherwise don't run this\n",
    "actions_vids_no = dict() # keeps track of the number of videos available per action,\n",
    "# so here initially 30 videos are available for each of the three actions\n",
    "# storing the dictionary on disk so that the program doesn't have to count the number of videos per action each \n",
    "# time the program is run\n",
    "try:\n",
    "    actions_file = open('actions_vids_no.pkl', 'wb')\n",
    "    pickle.dump(actions_vids_no, actions_file)\n",
    "    actions_file.close()\n",
    "  \n",
    "except:\n",
    "    print(\"Something went wrong\")"
   ]
  },
  {
   "cell_type": "code",
   "execution_count": 8,
   "id": "ed30fb84",
   "metadata": {},
   "outputs": [],
   "source": [
    "# Path for exported data, numpy arrays\n",
    "DATA_PATH = os.path.join(\"MP_DATA\")"
   ]
  },
  {
   "cell_type": "code",
   "execution_count": 6,
   "id": "b4153a77",
   "metadata": {},
   "outputs": [],
   "source": [
    "# Essential\n",
    "#Videos are going to be 30 frames in length\n",
    "sequence_length = 30"
   ]
  },
  {
   "cell_type": "markdown",
   "id": "4aaa960e",
   "metadata": {},
   "source": [
    "Run the cells below before adding new training data. The actions_vids_no is a dictionary that keeps track of the number of sequences for each sign"
   ]
  },
  {
   "cell_type": "code",
   "execution_count": 7,
   "id": "f86fc8b4",
   "metadata": {},
   "outputs": [
    {
     "name": "stdout",
     "output_type": "stream",
     "text": [
      "{'hello': 130, 'no action': 90, 'thank you': 175, 'i love you': 140, 'again': 150, 'food': 150, 'me': 170, 'want': 130, 'forget': 140, 'friend': 140, 'please': 185}\n"
     ]
    }
   ],
   "source": [
    "# Essential\n",
    "actions_file= open(\"actions_vids_no.pkl\", \"rb\")\n",
    "actions_vids_no = pickle.load(actions_file)\n",
    "print(actions_vids_no)"
   ]
  },
  {
   "cell_type": "code",
   "execution_count": 87,
   "id": "ba6b2461",
   "metadata": {},
   "outputs": [
    {
     "name": "stdout",
     "output_type": "stream",
     "text": [
      "actions_vids_no = {'hello': 120, 'no action': 90, 'thank you': 175, 'i love you': 140, 'again': 150, 'food': 150, 'me': 170, 'want': 130, 'forget': 140, 'friend': 140, 'please': 185} \n",
      "Total = 1590\n",
      "Enter the action for which you want to record sign language : hello\n",
      "Enter the number of sequences (aka videos) you want to record : 10\n",
      "Enter the time you need to reset yourself after each action (default 2000 ms) : \n",
      "{'hello': 130, 'no action': 90, 'thank you': 175, 'i love you': 140, 'again': 150, 'food': 150, 'me': 170, 'want': 130, 'forget': 140, 'friend': 140, 'please': 185} \n",
      "Total = 1600\n"
     ]
    }
   ],
   "source": [
    "# run this cell to enter new training data\n",
    "print(\"actions_vids_no =\", actions_vids_no, \"\\nTotal =\",sum(actions_vids_no.values()))\n",
    "action = input(\"Enter the action for which you want to record sign language : \").lower().strip()\n",
    "if action not in actions_vids_no.keys():\n",
    "    print(\"This is a new action\")\n",
    "no_sequences = int(input(\"Enter the number of sequences (aka videos) you want to record : \"))\n",
    "\n",
    "# making the required directories\n",
    "for sequence in range(no_sequences):\n",
    "    try:\n",
    "        os.makedirs(os.path.join(DATA_PATH, action, str(actions_vids_no.get(action,0)+sequence))) \n",
    "        \"\"\" logic: if no_sequences = 1 and no of videos already present = 30, then next folder should be\n",
    "        30 (since folders start from 0), so actions_vids_no.get(act,0) will return 30 and sequence will be 0\"\"\"\n",
    "    except:\n",
    "        pass\n",
    "\n",
    "\n",
    "waiting_time = input(\"Enter the time you need to reset yourself after each action (default 2000 ms) : \")\n",
    "if(waiting_time == \"\"):\n",
    "    waiting_time = 2000\n",
    "else:\n",
    "    waiting_time = int(waiting_time)\n",
    "cap = cv.VideoCapture(1)\n",
    "# Instantiate mediapipe model\n",
    "# we can play around with the kwargs\n",
    "with mp_holistic.Holistic(min_detection_confidence=0.5, min_tracking_confidence= 0.5) as holistic:\n",
    "    \n",
    "    # Loop through actions\n",
    "    #for action in actions_vids_no.keys():\n",
    "    # only one action here, so no need to loop through actions\n",
    "    # Loop through sequences aka videos\n",
    "    for sequence in range(actions_vids_no.get(action,0), actions_vids_no.get(action,0) + no_sequences):\n",
    "        # Loop through sequence length aka video length:\n",
    "        for frame_num in range(sequence_length):\n",
    "\n",
    "            # read feed from camera or video\n",
    "            ret, frame = cap.read()\n",
    "            # make detections\n",
    "            image, results = mediapipe_detection(frame, holistic)\n",
    "\n",
    "            # print(results) # uncomment to see what the results look like\n",
    "\n",
    "            # Draw landmarks\n",
    "            draw_styled_landmarks(image, results)\n",
    "\n",
    "            # Apply wait logic\n",
    "            if frame_num == 0: \n",
    "                cv.putText(image, 'STARTING COLLECTION, GET READY', (120,200), \n",
    "                           cv.FONT_HERSHEY_SIMPLEX, 1, (0,255, 0), 4, cv.LINE_AA)\n",
    "                cv.putText(image, 'Collecting frames for {} Video Number {}'.format(action, sequence), (15,12), \n",
    "                           cv.FONT_HERSHEY_SIMPLEX, 0.5, (0, 0, 255), 1, cv.LINE_AA)\n",
    "                # Show to screen\n",
    "                cv.imshow('OpenCV Feed', image)\n",
    "                cv.waitKey(waiting_time)\n",
    "            else: \n",
    "                cv.putText(image, 'Collecting frames for {} Video Number {}'.format(action, sequence), (15,12), \n",
    "                           cv.FONT_HERSHEY_SIMPLEX, 0.5, (0, 0, 255), 1, cv.LINE_AA)\n",
    "                # Show to screen\n",
    "                cv.imshow('OpenCV Feed', image)\n",
    "\n",
    "            # NEW Export keypoints\n",
    "            keypoints = extract_keypoints(results)\n",
    "            npy_path = os.path.join(DATA_PATH, action, str(sequence), str(frame_num))\n",
    "            np.save(npy_path, keypoints)\n",
    "\n",
    "            # Break gracefully, (if this statement is essential for closing each imshow window after 10 ms, thus allowing the program to display the next video frame)\n",
    "            if cv.waitKey(10) & 0xFF == ord('q'):\n",
    "                break\n",
    "    actions_vids_no[action] = actions_vids_no.get(action,0) + no_sequences\n",
    "    print(actions_vids_no, \"\\nTotal =\",sum(actions_vids_no.values()))\n",
    "    cap.release()\n",
    "    cv.destroyAllWindows()"
   ]
  },
  {
   "cell_type": "code",
   "execution_count": 88,
   "id": "068cf1b7",
   "metadata": {},
   "outputs": [],
   "source": [
    "#run this after entering new data\n",
    "try:\n",
    "    actions_file = open('actions_vids_no.pkl', 'wb')\n",
    "    pickle.dump(actions_vids_no, actions_file)\n",
    "    actions_file.close()\n",
    "  \n",
    "except:\n",
    "    print(\"Something went wrong\")"
   ]
  },
  {
   "cell_type": "code",
   "execution_count": 11,
   "id": "18e30c2a",
   "metadata": {
    "scrolled": true
   },
   "outputs": [
    {
     "name": "stderr",
     "output_type": "stream",
     "text": [
      "2022-04-16 00:31:23.723661: W tensorflow/stream_executor/platform/default/dso_loader.cc:64] Could not load dynamic library 'libcudart.so.11.0'; dlerror: libcudart.so.11.0: cannot open shared object file: No such file or directory; LD_LIBRARY_PATH: /home/soumadeep/Documents/Sign language project/my_env/lib/python3.9/site-packages/cv2/../../lib64:\n",
      "2022-04-16 00:31:23.723692: I tensorflow/stream_executor/cuda/cudart_stub.cc:29] Ignore above cudart dlerror if you do not have a GPU set up on your machine.\n"
     ]
    }
   ],
   "source": [
    "from sklearn.model_selection import train_test_split\n",
    "from tensorflow.keras.utils import to_categorical"
   ]
  },
  {
   "cell_type": "code",
   "execution_count": 12,
   "id": "eebe5706",
   "metadata": {},
   "outputs": [],
   "source": [
    "label_map = {label:num for num, label in enumerate(actions_vids_no.keys())}"
   ]
  },
  {
   "cell_type": "code",
   "execution_count": 13,
   "id": "5d42e4ba",
   "metadata": {},
   "outputs": [
    {
     "data": {
      "text/plain": [
       "{'hello': 0,\n",
       " 'no action': 1,\n",
       " 'thank you': 2,\n",
       " 'i love you': 3,\n",
       " 'again': 4,\n",
       " 'food': 5,\n",
       " 'me': 6,\n",
       " 'want': 7,\n",
       " 'forget': 8,\n",
       " 'friend': 9,\n",
       " 'please': 10}"
      ]
     },
     "execution_count": 13,
     "metadata": {},
     "output_type": "execute_result"
    }
   ],
   "source": [
    "label_map"
   ]
  },
  {
   "cell_type": "code",
   "execution_count": 14,
   "id": "2e774fc2",
   "metadata": {},
   "outputs": [],
   "source": [
    "# New essential for training new data, this loads all the available training data into numpy array\n",
    "sequences, labels = [], []\n",
    "for action in actions_vids_no.keys():\n",
    "    for sequence in range(actions_vids_no[action]):\n",
    "        window = []\n",
    "        for frame_num in range(sequence_length):\n",
    "            res = np.load(os.path.join(DATA_PATH, action, str(sequence), \"{}.npy\".format(frame_num)))\n",
    "            window.append(res)\n",
    "        sequences.append(window)\n",
    "        labels.append(label_map[action])"
   ]
  },
  {
   "cell_type": "code",
   "execution_count": 15,
   "id": "14a7f355",
   "metadata": {
    "scrolled": true
   },
   "outputs": [
    {
     "data": {
      "text/plain": [
       "{'hello': 130,\n",
       " 'no action': 90,\n",
       " 'thank you': 175,\n",
       " 'i love you': 140,\n",
       " 'again': 150,\n",
       " 'food': 150,\n",
       " 'me': 170,\n",
       " 'want': 130,\n",
       " 'forget': 140,\n",
       " 'friend': 140,\n",
       " 'please': 185}"
      ]
     },
     "execution_count": 15,
     "metadata": {},
     "output_type": "execute_result"
    }
   ],
   "source": [
    "actions_vids_no"
   ]
  },
  {
   "cell_type": "markdown",
   "id": "06c81b2d",
   "metadata": {},
   "source": [
    "Saving whole dataset into two numpy arrays to help in uploading to google drive in order to train the model in google colab"
   ]
  },
  {
   "cell_type": "code",
   "execution_count": 94,
   "id": "6b356b65",
   "metadata": {},
   "outputs": [],
   "source": [
    "npy_path = os.path.join(\"CombinedDatasetX\")\n",
    "np.save(npy_path, np.array(sequences))\n",
    "npy_path = os.path.join(\"CombinedDatasetY\")\n",
    "np.save(npy_path, np.array(labels))"
   ]
  },
  {
   "cell_type": "markdown",
   "id": "3fc94cb4",
   "metadata": {},
   "source": [
    "# Build LSTM and GRU models #"
   ]
  },
  {
   "cell_type": "code",
   "execution_count": 8,
   "id": "4e1bd9cc",
   "metadata": {},
   "outputs": [],
   "source": [
    "# Essential\n",
    "from tensorflow.keras.models import Sequential\n",
    "from tensorflow.keras.layers import LSTM, Dense, Input, BatchNormalization, LeakyReLU, GRU\n",
    "from tensorflow.keras.callbacks import TensorBoard\n",
    "import tensorflow as tf"
   ]
  },
  {
   "cell_type": "code",
   "execution_count": 9,
   "id": "49468d7b",
   "metadata": {},
   "outputs": [],
   "source": [
    "# Essential\n",
    "model_LSTM_Batch_Norm = Sequential(\n",
    "    [\n",
    "        LSTM(64, return_sequences=False, activation='tanh', input_shape=(30, 1662), kernel_regularizer=tf.keras.regularizers.L2(l2=0.044), recurrent_regularizer=tf.keras.regularizers.L2(l2=0.014)),\n",
    "        Dense(64, kernel_regularizer=tf.keras.regularizers.L2(l2=0.027)),\n",
    "        BatchNormalization(),\n",
    "        LeakyReLU(),\n",
    "        Dense(32, kernel_regularizer=tf.keras.regularizers.L2(l2=0.027)),\n",
    "        BatchNormalization(),\n",
    "        LeakyReLU(),\n",
    "        Dense(len(actions_vids_no.keys()), activation='softmax')\n",
    "    ]\n",
    ")"
   ]
  },
  {
   "cell_type": "code",
   "execution_count": 10,
   "id": "c4095242",
   "metadata": {},
   "outputs": [],
   "source": [
    "# Essential\n",
    "model_GRU_Batch_Norm = Sequential(\n",
    "    [\n",
    "        GRU(64, return_sequences=False, activation='tanh', input_shape=(30, 1662), kernel_regularizer=tf.keras.regularizers.L2(l2=0.044), recurrent_regularizer=tf.keras.regularizers.L2(l2=0.014)),\n",
    "        Dense(64, kernel_regularizer=tf.keras.regularizers.L2(l2=0.027)),\n",
    "        BatchNormalization(),\n",
    "        LeakyReLU(),\n",
    "        Dense(32, kernel_regularizer=tf.keras.regularizers.L2(l2=0.027)),\n",
    "        BatchNormalization(),\n",
    "        LeakyReLU(),\n",
    "        Dense(len(actions_vids_no.keys()), activation='softmax')\n",
    "    ]\n",
    ")"
   ]
  },
  {
   "cell_type": "code",
   "execution_count": 11,
   "id": "abdd7d25",
   "metadata": {},
   "outputs": [],
   "source": [
    "# Essential\n",
    "# learning rate decay, used it because the loss was abruptly increasing while fitting the model, which\n",
    "# meant that learning rate was note small enough\n",
    "# PS. The problem was alleviated more after implementing batch normalization\n",
    "lr_schedule = tf.keras.optimizers.schedules.InverseTimeDecay(\n",
    "    initial_learning_rate= 0.002 ,\n",
    "    decay_steps=8,\n",
    "    decay_rate=0.5,\n",
    "    staircase=False)"
   ]
  },
  {
   "cell_type": "code",
   "execution_count": 12,
   "id": "542c76ef",
   "metadata": {},
   "outputs": [],
   "source": [
    "# Essential\n",
    "model_LSTM_Batch_Norm.compile(optimizer= tf.optimizers.Adam(learning_rate=lr_schedule), loss='categorical_crossentropy', metrics=['categorical_accuracy'])"
   ]
  },
  {
   "cell_type": "code",
   "execution_count": 13,
   "id": "a6d02629",
   "metadata": {},
   "outputs": [],
   "source": [
    "# Essential\n",
    "model_GRU_Batch_Norm.compile(optimizer= tf.optimizers.Adam(learning_rate=lr_schedule), loss='categorical_crossentropy', metrics=['categorical_accuracy'])"
   ]
  },
  {
   "cell_type": "code",
   "execution_count": 16,
   "id": "5c6affa2",
   "metadata": {},
   "outputs": [
    {
     "name": "stdout",
     "output_type": "stream",
     "text": [
      "Model: \"sequential\"\n",
      "_________________________________________________________________\n",
      " Layer (type)                Output Shape              Param #   \n",
      "=================================================================\n",
      " lstm (LSTM)                 (None, 64)                442112    \n",
      "                                                                 \n",
      " dense (Dense)               (None, 64)                4160      \n",
      "                                                                 \n",
      " batch_normalization (Batch  (None, 64)                256       \n",
      " Normalization)                                                  \n",
      "                                                                 \n",
      " leaky_re_lu (LeakyReLU)     (None, 64)                0         \n",
      "                                                                 \n",
      " dense_1 (Dense)             (None, 32)                2080      \n",
      "                                                                 \n",
      " batch_normalization_1 (Bat  (None, 32)                128       \n",
      " chNormalization)                                                \n",
      "                                                                 \n",
      " leaky_re_lu_1 (LeakyReLU)   (None, 32)                0         \n",
      "                                                                 \n",
      " dense_2 (Dense)             (None, 11)                363       \n",
      "                                                                 \n",
      "=================================================================\n",
      "Total params: 449099 (1.71 MB)\n",
      "Trainable params: 448907 (1.71 MB)\n",
      "Non-trainable params: 192 (768.00 Byte)\n",
      "_________________________________________________________________\n"
     ]
    }
   ],
   "source": [
    "model_LSTM_Batch_Norm.summary()"
   ]
  },
  {
   "cell_type": "code",
   "execution_count": 17,
   "id": "636ef05e",
   "metadata": {},
   "outputs": [
    {
     "name": "stdout",
     "output_type": "stream",
     "text": [
      "Model: \"sequential_1\"\n",
      "_________________________________________________________________\n",
      " Layer (type)                Output Shape              Param #   \n",
      "=================================================================\n",
      " gru (GRU)                   (None, 64)                331776    \n",
      "                                                                 \n",
      " dense_3 (Dense)             (None, 64)                4160      \n",
      "                                                                 \n",
      " batch_normalization_2 (Bat  (None, 64)                256       \n",
      " chNormalization)                                                \n",
      "                                                                 \n",
      " leaky_re_lu_2 (LeakyReLU)   (None, 64)                0         \n",
      "                                                                 \n",
      " dense_4 (Dense)             (None, 32)                2080      \n",
      "                                                                 \n",
      " batch_normalization_3 (Bat  (None, 32)                128       \n",
      " chNormalization)                                                \n",
      "                                                                 \n",
      " leaky_re_lu_3 (LeakyReLU)   (None, 32)                0         \n",
      "                                                                 \n",
      " dense_5 (Dense)             (None, 11)                363       \n",
      "                                                                 \n",
      "=================================================================\n",
      "Total params: 338763 (1.29 MB)\n",
      "Trainable params: 338571 (1.29 MB)\n",
      "Non-trainable params: 192 (768.00 Byte)\n",
      "_________________________________________________________________\n"
     ]
    }
   ],
   "source": [
    "model_GRU_Batch_Norm.summary()"
   ]
  },
  {
   "cell_type": "markdown",
   "id": "16d455aa",
   "metadata": {},
   "source": [
    "## Training part is in google colab notebook (pdf has been merged), since local machine did not have sufficient RAM ##"
   ]
  },
  {
   "cell_type": "markdown",
   "id": "04bc5595",
   "metadata": {},
   "source": [
    "# Load model weights #"
   ]
  },
  {
   "cell_type": "code",
   "execution_count": 14,
   "id": "5f8246b2",
   "metadata": {},
   "outputs": [],
   "source": [
    "# Essential\n",
    "model_GRU_Batch_Norm.load_weights(\"GRU_Batch_Norm.h5\")"
   ]
  },
  {
   "cell_type": "code",
   "execution_count": 15,
   "id": "d156c1ac",
   "metadata": {},
   "outputs": [],
   "source": [
    "# Essential\n",
    "model_LSTM_Batch_Norm.load_weights(\"LSTM_Batch_Norm.h5\")"
   ]
  },
  {
   "cell_type": "markdown",
   "id": "14865e5b",
   "metadata": {},
   "source": [
    "# Test in real time #"
   ]
  },
  {
   "cell_type": "code",
   "execution_count": 16,
   "id": "a751c6c3",
   "metadata": {},
   "outputs": [],
   "source": [
    "# Essential\n",
    "from scipy import stats"
   ]
  },
  {
   "cell_type": "code",
   "execution_count": 17,
   "id": "23a67ea1",
   "metadata": {},
   "outputs": [],
   "source": [
    "# Essential\n",
    "def prob_viz(res, actions, input_frame, colors):\n",
    "    output_frame = input_frame.copy()\n",
    "    for num, prob in enumerate(res):\n",
    "        #print(num,prob)\n",
    "        #print(colors[num])\n",
    "        cv.rectangle(output_frame, (0,40+num*40), (int(prob*100), 70+num*40), colors[num], -1)\n",
    "        cv.putText(output_frame, actions[num], (0, 65+num*40), cv.FONT_HERSHEY_SIMPLEX, 1, (255,255,255), 2, cv.LINE_AA)\n",
    "        \n",
    "    return output_frame"
   ]
  },
  {
   "cell_type": "code",
   "execution_count": 18,
   "id": "f64d5a63",
   "metadata": {},
   "outputs": [],
   "source": [
    "# essential\n",
    "from gtts import gTTS\n",
    "from io import BytesIO\n",
    "from pydub import AudioSegment\n",
    "from pydub.playback import play"
   ]
  },
  {
   "cell_type": "code",
   "execution_count": 19,
   "id": "7ab61454",
   "metadata": {},
   "outputs": [],
   "source": [
    "# essential\n",
    "def play_text(text):\n",
    "    #playing the text using gTTS\n",
    "    tts = gTTS(text = text, lang=\"en\")\n",
    "\n",
    "    # convert to file-like object\n",
    "    fp = BytesIO()\n",
    "    tts.write_to_fp(fp)\n",
    "    fp.seek(0)\n",
    "\n",
    "    # --- play it ---\n",
    "\n",
    "    sound = AudioSegment.from_file(fp, format=\"mp3\")\n",
    "    play(sound)"
   ]
  },
  {
   "cell_type": "code",
   "execution_count": 20,
   "id": "4c47f0d2",
   "metadata": {
    "scrolled": true
   },
   "outputs": [
    {
     "name": "stdin",
     "output_type": "stream",
     "text": [
      "Which model do you want to test: Enter 1 for GRU, Enter 2 for LSTM:  1\n"
     ]
    },
    {
     "name": "stderr",
     "output_type": "stream",
     "text": [
      "qt.qpa.plugin: Could not find the Qt platform plugin \"wayland\" in \"/home/soumadeep/Documents/Sign language project/env2/lib/python3.11/site-packages/cv2/qt/plugins\"\n",
      "INFO: Created TensorFlow Lite XNNPACK delegate for CPU.\n"
     ]
    },
    {
     "name": "stdout",
     "output_type": "stream",
     "text": [
      "1/1 [==============================] - 1s 602ms/step\n",
      "1/1 [==============================] - 0s 22ms/step\n",
      "1/1 [==============================] - 0s 22ms/step\n",
      "1/1 [==============================] - 0s 21ms/step\n",
      "1/1 [==============================] - 0s 20ms/step\n",
      "1/1 [==============================] - 0s 20ms/step\n",
      "1/1 [==============================] - 0s 21ms/step\n",
      "1/1 [==============================] - 0s 20ms/step\n",
      "1/1 [==============================] - 0s 22ms/step\n",
      "1/1 [==============================] - 0s 19ms/step\n",
      "1/1 [==============================] - 0s 20ms/step\n",
      "1/1 [==============================] - 0s 20ms/step\n",
      "1/1 [==============================] - 0s 21ms/step\n",
      "1/1 [==============================] - 0s 20ms/step\n",
      "1/1 [==============================] - 0s 21ms/step\n",
      "1/1 [==============================] - 0s 21ms/step\n",
      "1/1 [==============================] - 0s 21ms/step\n",
      "1/1 [==============================] - 0s 21ms/step\n",
      "1/1 [==============================] - 0s 21ms/step\n",
      "1/1 [==============================] - 0s 20ms/step\n",
      "1/1 [==============================] - 0s 21ms/step\n",
      "1/1 [==============================] - 0s 20ms/step\n",
      "1/1 [==============================] - 0s 19ms/step\n",
      "1/1 [==============================] - 0s 20ms/step\n",
      "1/1 [==============================] - 0s 20ms/step\n",
      "1/1 [==============================] - 0s 20ms/step\n",
      "1/1 [==============================] - 0s 20ms/step\n",
      "1/1 [==============================] - 0s 20ms/step\n",
      "1/1 [==============================] - 0s 19ms/step\n",
      "1/1 [==============================] - 0s 21ms/step\n",
      "1/1 [==============================] - 0s 20ms/step\n",
      "1/1 [==============================] - 0s 20ms/step\n",
      "1/1 [==============================] - 0s 20ms/step\n",
      "1/1 [==============================] - 0s 20ms/step\n",
      "1/1 [==============================] - 0s 20ms/step\n",
      "1/1 [==============================] - 0s 19ms/step\n",
      "1/1 [==============================] - 0s 20ms/step\n",
      "1/1 [==============================] - 0s 20ms/step\n",
      "1/1 [==============================] - 0s 21ms/step\n",
      "1/1 [==============================] - 0s 20ms/step\n",
      "1/1 [==============================] - 0s 20ms/step\n",
      "1/1 [==============================] - 0s 20ms/step\n",
      "1/1 [==============================] - 0s 20ms/step\n",
      "1/1 [==============================] - 0s 20ms/step\n",
      "1/1 [==============================] - 0s 21ms/step\n",
      "1/1 [==============================] - 0s 25ms/step\n",
      "1/1 [==============================] - 0s 20ms/step\n",
      "1/1 [==============================] - 0s 20ms/step\n",
      "1/1 [==============================] - 0s 20ms/step\n",
      "1/1 [==============================] - 0s 21ms/step\n",
      "1/1 [==============================] - 0s 21ms/step\n",
      "1/1 [==============================] - 0s 19ms/step\n",
      "1/1 [==============================] - 0s 20ms/step\n",
      "1/1 [==============================] - 0s 20ms/step\n",
      "1/1 [==============================] - 0s 19ms/step\n",
      "1/1 [==============================] - 0s 19ms/step\n",
      "1/1 [==============================] - 0s 41ms/step\n",
      "1/1 [==============================] - 0s 20ms/step\n",
      "1/1 [==============================] - 0s 19ms/step\n",
      "1/1 [==============================] - 0s 20ms/step\n",
      "1/1 [==============================] - 0s 19ms/step\n",
      "1/1 [==============================] - 0s 21ms/step\n",
      "1/1 [==============================] - 0s 20ms/step\n",
      "1/1 [==============================] - 0s 20ms/step\n",
      "1/1 [==============================] - 0s 20ms/step\n",
      "1/1 [==============================] - 0s 21ms/step\n",
      "1/1 [==============================] - 0s 19ms/step\n",
      "1/1 [==============================] - 0s 20ms/step\n",
      "1/1 [==============================] - 0s 20ms/step\n",
      "1/1 [==============================] - 0s 20ms/step\n",
      "1/1 [==============================] - 0s 20ms/step\n",
      "1/1 [==============================] - 0s 20ms/step\n",
      "1/1 [==============================] - 0s 20ms/step\n",
      "1/1 [==============================] - 0s 19ms/step\n",
      "1/1 [==============================] - 0s 20ms/step\n",
      "1/1 [==============================] - 0s 20ms/step\n",
      "1/1 [==============================] - 0s 20ms/step\n",
      "1/1 [==============================] - 0s 19ms/step\n",
      "1/1 [==============================] - 0s 19ms/step\n",
      "1/1 [==============================] - 0s 20ms/step\n",
      "1/1 [==============================] - 0s 20ms/step\n",
      "1/1 [==============================] - 0s 20ms/step\n",
      "1/1 [==============================] - 0s 20ms/step\n",
      "1/1 [==============================] - 0s 20ms/step\n",
      "1/1 [==============================] - 0s 20ms/step\n",
      "1/1 [==============================] - 0s 20ms/step\n",
      "1/1 [==============================] - 0s 19ms/step\n",
      "1/1 [==============================] - 0s 19ms/step\n",
      "1/1 [==============================] - 0s 20ms/step\n",
      "1/1 [==============================] - 0s 30ms/step\n",
      "1/1 [==============================] - 0s 19ms/step\n",
      "1/1 [==============================] - 0s 20ms/step\n",
      "1/1 [==============================] - 0s 20ms/step\n",
      "1/1 [==============================] - 0s 20ms/step\n",
      "1/1 [==============================] - 0s 21ms/step\n",
      "1/1 [==============================] - 0s 20ms/step\n",
      "1/1 [==============================] - 0s 20ms/step\n",
      "1/1 [==============================] - 0s 20ms/step\n",
      "1/1 [==============================] - 0s 20ms/step\n",
      "1/1 [==============================] - 0s 21ms/step\n",
      "1/1 [==============================] - 0s 20ms/step\n",
      "1/1 [==============================] - 0s 20ms/step\n",
      "1/1 [==============================] - 0s 21ms/step\n",
      "1/1 [==============================] - 0s 20ms/step\n",
      "1/1 [==============================] - 0s 20ms/step\n",
      "1/1 [==============================] - 0s 21ms/step\n",
      "1/1 [==============================] - 0s 20ms/step\n",
      "1/1 [==============================] - 0s 20ms/step\n",
      "1/1 [==============================] - 0s 19ms/step\n",
      "1/1 [==============================] - 0s 20ms/step\n",
      "1/1 [==============================] - 0s 20ms/step\n",
      "1/1 [==============================] - 0s 20ms/step\n",
      "1/1 [==============================] - 0s 20ms/step\n",
      "1/1 [==============================] - 0s 22ms/step\n",
      "1/1 [==============================] - 0s 21ms/step\n",
      "1/1 [==============================] - 0s 24ms/step\n",
      "1/1 [==============================] - 0s 21ms/step\n",
      "1/1 [==============================] - 0s 21ms/step\n",
      "1/1 [==============================] - 0s 20ms/step\n",
      "1/1 [==============================] - 0s 21ms/step\n",
      "1/1 [==============================] - 0s 21ms/step\n",
      "1/1 [==============================] - 0s 20ms/step\n",
      "1/1 [==============================] - 0s 20ms/step\n",
      "1/1 [==============================] - 0s 20ms/step\n",
      "1/1 [==============================] - 0s 20ms/step\n",
      "1/1 [==============================] - 0s 20ms/step\n",
      "1/1 [==============================] - 0s 20ms/step\n",
      "1/1 [==============================] - 0s 19ms/step\n",
      "1/1 [==============================] - 0s 20ms/step\n",
      "1/1 [==============================] - 0s 20ms/step\n",
      "1/1 [==============================] - 0s 20ms/step\n",
      "1/1 [==============================] - 0s 20ms/step\n",
      "1/1 [==============================] - 0s 21ms/step\n",
      "1/1 [==============================] - 0s 23ms/step\n",
      "1/1 [==============================] - 0s 20ms/step\n",
      "1/1 [==============================] - 0s 19ms/step\n",
      "1/1 [==============================] - 0s 21ms/step\n",
      "1/1 [==============================] - 0s 20ms/step\n",
      "1/1 [==============================] - 0s 20ms/step\n",
      "1/1 [==============================] - 0s 19ms/step\n",
      "1/1 [==============================] - 0s 20ms/step\n",
      "1/1 [==============================] - 0s 19ms/step\n",
      "1/1 [==============================] - 0s 20ms/step\n",
      "1/1 [==============================] - 0s 20ms/step\n",
      "1/1 [==============================] - 0s 20ms/step\n",
      "1/1 [==============================] - 0s 20ms/step\n",
      "1/1 [==============================] - 0s 20ms/step\n",
      "1/1 [==============================] - 0s 21ms/step\n",
      "1/1 [==============================] - 0s 20ms/step\n",
      "1/1 [==============================] - 0s 25ms/step\n",
      "1/1 [==============================] - 0s 20ms/step\n",
      "1/1 [==============================] - 0s 20ms/step\n",
      "1/1 [==============================] - 0s 20ms/step\n",
      "1/1 [==============================] - 0s 22ms/step\n",
      "1/1 [==============================] - 0s 21ms/step\n",
      "1/1 [==============================] - 0s 21ms/step\n",
      "1/1 [==============================] - 0s 21ms/step\n",
      "1/1 [==============================] - 0s 21ms/step\n",
      "1/1 [==============================] - 0s 21ms/step\n",
      "1/1 [==============================] - 0s 21ms/step\n",
      "1/1 [==============================] - 0s 21ms/step\n",
      "1/1 [==============================] - 0s 22ms/step\n",
      "1/1 [==============================] - 0s 22ms/step\n",
      "1/1 [==============================] - 0s 23ms/step\n",
      "1/1 [==============================] - 0s 24ms/step\n",
      "1/1 [==============================] - 0s 24ms/step\n",
      "1/1 [==============================] - 0s 21ms/step\n",
      "1/1 [==============================] - 0s 21ms/step\n",
      "1/1 [==============================] - 0s 21ms/step\n",
      "1/1 [==============================] - 0s 21ms/step\n"
     ]
    }
   ],
   "source": [
    "# Essential\n",
    "# 1. New detection variables\n",
    "model_choice = int(input(\"Which model do you want to test: Enter 1 for GRU, Enter 2 for LSTM: \"))\n",
    "sequence = []\n",
    "sentence = []\n",
    "predictions = []\n",
    "threshold = 0.7\n",
    "actions = list(actions_vids_no.keys())\n",
    "cv.namedWindow(\"OpenCV Feed\", cv.WINDOW_NORMAL)\n",
    "cv.resizeWindow(\"OpenCV Feed\", 1000, 800)\n",
    "cap = cv.VideoCapture(0)\n",
    "colors = [tuple(map(int,np.random.randint(0,256,3))) for action in actions]\n",
    "res = None\n",
    "#print(colors)\n",
    "# Set mediapipe model \n",
    "with mp_holistic.Holistic(min_detection_confidence=0.5, min_tracking_confidence=0.5) as holistic:\n",
    "    while cap.isOpened():\n",
    "\n",
    "        # Read feed\n",
    "        ret, frame = cap.read()\n",
    "\n",
    "        # Make detections\n",
    "        image, results = mediapipe_detection(frame, holistic)\n",
    "        # print(results)\n",
    "        \n",
    "        # Draw landmarks\n",
    "        draw_styled_landmarks(image, results)\n",
    "        \n",
    "        # 2. Prediction logic\n",
    "        keypoints = extract_keypoints(results)\n",
    "        sequence.append(keypoints)\n",
    "        sequence = sequence[-30:]\n",
    "        \n",
    "        if len(sequence) == 30:\n",
    "            if(model_choice == 1):\n",
    "                res = model_GRU_Batch_Norm.predict(np.expand_dims(sequence, axis=0))[0]\n",
    "            elif(model_choice == 2):\n",
    "                res = model_LSTM_Batch_Norm.predict(np.expand_dims(sequence, axis=0))[0]\n",
    "            else:\n",
    "                print(\"Wrong choice\")\n",
    "                break\n",
    "            # print(actions[np.argmax(res)])\n",
    "            predictions.append(np.argmax(res))\n",
    "            \n",
    "            \n",
    "        #3. Viz logic\n",
    "            if np.unique(predictions[-10:])[0]==np.argmax(res): \n",
    "                if res[np.argmax(res)] > threshold: \n",
    "                    \n",
    "                    if len(sentence) > 0: \n",
    "                        if actions[np.argmax(res)] != 'no action':\n",
    "                            sentence.append(actions[np.argmax(res)])\n",
    "                            sequence=[]\n",
    "                            #playing the text using gTTS\n",
    "                            #play_text(sentence[-1])\n",
    "                    elif(actions[np.argmax(res)] != 'no action'):\n",
    "                        sentence.append(actions[np.argmax(res)])\n",
    "                        sequence=[]\n",
    "                        #playing the text using gTTS\n",
    "                        #play_text(sentence[-1])\n",
    "            \n",
    "            if len(sentence) > 6: \n",
    "                sentence = sentence[-6:]\n",
    "            if len(predictions) > 10:\n",
    "                predictions = predictions[-10:]\n",
    "        # Viz probabilities\n",
    "        if(sentence or len(sequence) == 30):\n",
    "            image = prob_viz(res, actions, image, colors)\n",
    "        cv.rectangle(image, (0,0), (640, 30), (245, 117, 16), -1)\n",
    "        cv.putText(image, ' '.join(sentence), (3,20), \n",
    "                       cv.FONT_HERSHEY_SIMPLEX, 0.7, (255, 255, 255), 1, cv.LINE_AA)\n",
    "        \n",
    "        # Show to screen\n",
    "        cv.imshow('OpenCV Feed', image)\n",
    "\n",
    "        # Break gracefully\n",
    "        if cv.waitKey(1) & 0xFF == ord('q'):\n",
    "            break\n",
    "    cap.release()\n",
    "    cv.destroyAllWindows()"
   ]
  },
  {
   "cell_type": "code",
   "execution_count": null,
   "id": "60f0f021",
   "metadata": {},
   "outputs": [],
   "source": []
  }
 ],
 "metadata": {
  "kernelspec": {
   "display_name": "Python 3 (ipykernel)",
   "language": "python",
   "name": "python3"
  },
  "language_info": {
   "codemirror_mode": {
    "name": "ipython",
    "version": 3
   },
   "file_extension": ".py",
   "mimetype": "text/x-python",
   "name": "python",
   "nbconvert_exporter": "python",
   "pygments_lexer": "ipython3",
   "version": "3.11.6"
  }
 },
 "nbformat": 4,
 "nbformat_minor": 5
}
